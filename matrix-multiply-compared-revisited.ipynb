{
 "cells": [
  {
   "cell_type": "markdown",
   "id": "c76f78fe-7f0d-4c85-ae6c-0957ffe60269",
   "metadata": {
    "papermill": {
     "duration": 0.036168,
     "end_time": "2023-01-23T17:05:13.564188",
     "exception": false,
     "start_time": "2023-01-23T17:05:13.528020",
     "status": "completed"
    },
    "tags": []
   },
   "source": [
    "# Matrix multiply speedup: 63,000 X?\n",
    "Let's code it in pure python, then compare with Numpy (C) on CPU, Pytorch and Tensorflow on GPU.\n",
    "\n",
    "Let's write down two matrices and multiply them using Python.\n",
    "\n",
    "This will also serve as a five minute introduction to Python!\n",
    "\n",
    "The matrices we will use are the 2x2 matrices below.\n",
    "$$ \n",
    "A =\\begin{bmatrix}\n",
    "1 & 2 \\\\\n",
    "3 & 4 \\\\\n",
    "\\end{bmatrix}\n",
    "\\text{ }\n",
    "B =\\begin{bmatrix}\n",
    "5 & 6 \\\\\n",
    "7 & 8 \\\\\n",
    "\\end{bmatrix}\n",
    "$$\n",
    "A list is a Python data type that is commonly used when working with arrays. In the frameworks we will use, one common way to define a matrix is as a list of lists."
   ]
  },
  {
   "cell_type": "code",
   "execution_count": 2,
   "id": "8fdc1a39-693b-49e0-bbfc-13533bc4fdc0",
   "metadata": {
    "papermill": {
     "duration": 0.041941,
     "end_time": "2023-01-23T17:05:13.638770",
     "exception": false,
     "start_time": "2023-01-23T17:05:13.596829",
     "status": "completed"
    },
    "tags": []
   },
   "outputs": [],
   "source": [
    "A = [[1,2],[3,4]] "
   ]
  },
  {
   "cell_type": "code",
   "execution_count": 3,
   "id": "a820993c-9533-4029-8f22-4011ba8551e1",
   "metadata": {
    "papermill": {
     "duration": 0.043385,
     "end_time": "2023-01-23T17:05:13.714632",
     "exception": false,
     "start_time": "2023-01-23T17:05:13.671247",
     "status": "completed"
    },
    "tags": []
   },
   "outputs": [
    {
     "data": {
      "text/plain": [
       "[[1, 2], [3, 4]]"
      ]
     },
     "execution_count": 3,
     "metadata": {},
     "output_type": "execute_result"
    }
   ],
   "source": [
    "A"
   ]
  },
  {
   "cell_type": "code",
   "execution_count": 4,
   "id": "044ac557-f5b1-41a5-a6e7-7d55c895c19b",
   "metadata": {
    "papermill": {
     "duration": 0.039984,
     "end_time": "2023-01-23T17:05:13.787977",
     "exception": false,
     "start_time": "2023-01-23T17:05:13.747993",
     "status": "completed"
    },
    "tags": []
   },
   "outputs": [
    {
     "data": {
      "text/plain": [
       "list"
      ]
     },
     "execution_count": 4,
     "metadata": {},
     "output_type": "execute_result"
    }
   ],
   "source": [
    "type(A)"
   ]
  },
  {
   "cell_type": "code",
   "execution_count": 5,
   "id": "7fa7907f-4d4e-4694-be58-79654f52b742",
   "metadata": {
    "papermill": {
     "duration": 0.039441,
     "end_time": "2023-01-23T17:05:13.860662",
     "exception": false,
     "start_time": "2023-01-23T17:05:13.821221",
     "status": "completed"
    },
    "tags": []
   },
   "outputs": [
    {
     "name": "stdout",
     "output_type": "stream",
     "text": [
      "[1, 2]\n",
      "[3, 4]\n"
     ]
    }
   ],
   "source": [
    "for row in A:\n",
    "  print(row)"
   ]
  },
  {
   "cell_type": "code",
   "execution_count": 6,
   "id": "726b86a8-52ce-4ca4-a483-c929a268135b",
   "metadata": {
    "papermill": {
     "duration": 0.039045,
     "end_time": "2023-01-23T17:05:13.933549",
     "exception": false,
     "start_time": "2023-01-23T17:05:13.894504",
     "status": "completed"
    },
    "tags": []
   },
   "outputs": [],
   "source": [
    "B = [[5,6],[7,8]]"
   ]
  },
  {
   "cell_type": "code",
   "execution_count": 7,
   "id": "a8fb78a4-ad47-43cf-9ae6-fb5d56f6c458",
   "metadata": {
    "papermill": {
     "duration": 0.03986,
     "end_time": "2023-01-23T17:05:14.007482",
     "exception": false,
     "start_time": "2023-01-23T17:05:13.967622",
     "status": "completed"
    },
    "tags": []
   },
   "outputs": [
    {
     "data": {
      "text/plain": [
       "[5, 6]"
      ]
     },
     "execution_count": 7,
     "metadata": {},
     "output_type": "execute_result"
    }
   ],
   "source": [
    "B[0]"
   ]
  },
  {
   "cell_type": "code",
   "execution_count": 8,
   "id": "9952f3ee-a097-4612-9fc0-7b0772fd346b",
   "metadata": {
    "papermill": {
     "duration": 0.041129,
     "end_time": "2023-01-23T17:05:14.083249",
     "exception": false,
     "start_time": "2023-01-23T17:05:14.042120",
     "status": "completed"
    },
    "tags": []
   },
   "outputs": [
    {
     "data": {
      "text/plain": [
       "list"
      ]
     },
     "execution_count": 8,
     "metadata": {},
     "output_type": "execute_result"
    }
   ],
   "source": [
    "type(B[0])"
   ]
  },
  {
   "cell_type": "code",
   "execution_count": 9,
   "id": "552a77c1-ca87-445f-85a3-a6d05115fa19",
   "metadata": {
    "papermill": {
     "duration": 0.040359,
     "end_time": "2023-01-23T17:05:14.157585",
     "exception": false,
     "start_time": "2023-01-23T17:05:14.117226",
     "status": "completed"
    },
    "tags": []
   },
   "outputs": [
    {
     "data": {
      "text/plain": [
       "[7, 8]"
      ]
     },
     "execution_count": 9,
     "metadata": {},
     "output_type": "execute_result"
    }
   ],
   "source": [
    "B[1]"
   ]
  },
  {
   "cell_type": "code",
   "execution_count": 10,
   "id": "f6057d94-6dfb-42bc-8dff-d22df3692b5c",
   "metadata": {
    "papermill": {
     "duration": 0.041013,
     "end_time": "2023-01-23T17:05:14.233272",
     "exception": false,
     "start_time": "2023-01-23T17:05:14.192259",
     "status": "completed"
    },
    "tags": []
   },
   "outputs": [
    {
     "name": "stdout",
     "output_type": "stream",
     "text": [
      "[5, 6]\n",
      "[7, 8]\n"
     ]
    }
   ],
   "source": [
    "row1_B = B[0]\n",
    "row2_B = B[1]\n",
    "print(row1_B)\n",
    "print(row2_B)"
   ]
  },
  {
   "cell_type": "code",
   "execution_count": 11,
   "id": "4fcf3c68-ccd9-4f2e-b61f-0cc42351cc2e",
   "metadata": {
    "papermill": {
     "duration": 0.041054,
     "end_time": "2023-01-23T17:05:14.308647",
     "exception": false,
     "start_time": "2023-01-23T17:05:14.267593",
     "status": "completed"
    },
    "tags": []
   },
   "outputs": [
    {
     "data": {
      "text/plain": [
       "6"
      ]
     },
     "execution_count": 11,
     "metadata": {},
     "output_type": "execute_result"
    }
   ],
   "source": [
    "element_1_2 = B[0][1]\n",
    "element_1_2"
   ]
  },
  {
   "cell_type": "code",
   "execution_count": 12,
   "id": "bcf9260c-7901-47ad-8465-4600476efffd",
   "metadata": {
    "papermill": {
     "duration": 0.040952,
     "end_time": "2023-01-23T17:05:14.385188",
     "exception": false,
     "start_time": "2023-01-23T17:05:14.344236",
     "status": "completed"
    },
    "tags": []
   },
   "outputs": [
    {
     "name": "stdout",
     "output_type": "stream",
     "text": [
      "0\n",
      "1\n"
     ]
    }
   ],
   "source": [
    "for i in range(2):\n",
    "    print(i)"
   ]
  },
  {
   "cell_type": "code",
   "execution_count": 13,
   "id": "fa7739aa-13bd-4bd9-b339-4753462b5898",
   "metadata": {
    "papermill": {
     "duration": 0.042218,
     "end_time": "2023-01-23T17:05:14.462625",
     "exception": false,
     "start_time": "2023-01-23T17:05:14.420407",
     "status": "completed"
    },
    "tags": []
   },
   "outputs": [],
   "source": [
    "def matrix_multiply(A,B):\n",
    "    AB = [[0,0],[0,0]] # Create matrix of zeros\n",
    "    for i in range(2):\n",
    "        for j in range(2):\n",
    "            AB[i][j] = sum(A[i][k]*B[k][j] for k in range(2))\n",
    "    return AB"
   ]
  },
  {
   "cell_type": "code",
   "execution_count": 14,
   "id": "e4aa3948-a28c-4441-9d9a-8d9c6a69185b",
   "metadata": {
    "papermill": {
     "duration": 0.041453,
     "end_time": "2023-01-23T17:05:14.539623",
     "exception": false,
     "start_time": "2023-01-23T17:05:14.498170",
     "status": "completed"
    },
    "tags": []
   },
   "outputs": [
    {
     "name": "stdout",
     "output_type": "stream",
     "text": [
      "Help on function matrix_multiply in module __main__:\n",
      "\n",
      "matrix_multiply(A, B)\n",
      "\n"
     ]
    }
   ],
   "source": [
    "help(matrix_multiply)"
   ]
  },
  {
   "cell_type": "code",
   "execution_count": 15,
   "id": "a72ed067-a67a-4f1e-84af-7c65fc3a89f5",
   "metadata": {
    "papermill": {
     "duration": 0.042518,
     "end_time": "2023-01-23T17:05:14.618317",
     "exception": false,
     "start_time": "2023-01-23T17:05:14.575799",
     "status": "completed"
    },
    "tags": []
   },
   "outputs": [
    {
     "data": {
      "text/plain": [
       "[[19, 22], [43, 50]]"
      ]
     },
     "execution_count": 15,
     "metadata": {},
     "output_type": "execute_result"
    }
   ],
   "source": [
    "matrix_multiply(A,B)"
   ]
  },
  {
   "cell_type": "markdown",
   "id": "83ea686a-4c65-4aee-85eb-e6302d61baba",
   "metadata": {
    "papermill": {
     "duration": 0.036424,
     "end_time": "2023-01-23T17:05:14.692954",
     "exception": false,
     "start_time": "2023-01-23T17:05:14.656530",
     "status": "completed"
    },
    "tags": []
   },
   "source": [
    "The result is \n",
    "$$ \n",
    "\\begin{bmatrix}\n",
    "1 & 2 \\\\\n",
    "3 & 4 \\\\\n",
    "\\end{bmatrix}\n",
    "\\cdot\n",
    "\\begin{bmatrix}\n",
    "5 & 6 \\\\\n",
    "7 & 8 \\\\\n",
    "\\end{bmatrix}\n",
    "= \\begin{bmatrix}\n",
    "19 & 22 \\\\\n",
    "43 & 50 \\\\\n",
    "\\end{bmatrix}\n",
    "$$"
   ]
  },
  {
   "cell_type": "markdown",
   "id": "efe4f45d-32da-44db-84ee-4517168d21d7",
   "metadata": {
    "papermill": {
     "duration": 0.035669,
     "end_time": "2023-01-23T17:05:14.764456",
     "exception": false,
     "start_time": "2023-01-23T17:05:14.728787",
     "status": "completed"
    },
    "tags": []
   },
   "source": [
    "Below we write a Python function to multiply square matrices of any size. We are not interested in optimizing its runtime, rather we focus on writing a function that reads like the mathematical operation. Specifically the fact that the $i,j$ entry in the result $AB$ is given by the formula below.\n",
    "$$\n",
    "AB_{i,j} = \\sum_{k=1}^n A_{i,k}B_{k,j}\n",
    "$$"
   ]
  },
  {
   "cell_type": "code",
   "execution_count": 16,
   "id": "a60a9928-1073-47b8-965e-b8157b4fbc63",
   "metadata": {
    "papermill": {
     "duration": 0.043293,
     "end_time": "2023-01-23T17:05:14.843731",
     "exception": false,
     "start_time": "2023-01-23T17:05:14.800438",
     "status": "completed"
    },
    "tags": []
   },
   "outputs": [],
   "source": [
    "def matrix_multiply(A,B):\n",
    "    \"\"\"Multiply square matrices and return result\"\"\"\n",
    "    m = len(A) \n",
    "    AB = [[0]*m for i in range(m)] # create AB as matrix of zeros then fill in results \n",
    "    \n",
    "    for i in range(m):\n",
    "        for j in range(m):\n",
    "            AB[i][j] = sum(A[i][k]*B[k][j] for k in range(m))\n",
    "    \n",
    "    return AB\n",
    "        "
   ]
  },
  {
   "cell_type": "markdown",
   "id": "b5d57402-887a-49b5-b92e-64f84eb7b838",
   "metadata": {
    "papermill": {
     "duration": 0.038785,
     "end_time": "2023-01-23T17:05:14.918818",
     "exception": false,
     "start_time": "2023-01-23T17:05:14.880033",
     "status": "completed"
    },
    "tags": []
   },
   "source": [
    "Let's create a matrix initialized with random values."
   ]
  },
  {
   "cell_type": "code",
   "execution_count": 17,
   "id": "de189aec-64a8-4027-9186-93116087226a",
   "metadata": {
    "papermill": {
     "duration": 0.041306,
     "end_time": "2023-01-23T17:05:14.997243",
     "exception": false,
     "start_time": "2023-01-23T17:05:14.955937",
     "status": "completed"
    },
    "tags": []
   },
   "outputs": [],
   "source": [
    "import random"
   ]
  },
  {
   "cell_type": "code",
   "execution_count": 18,
   "id": "3859881e-e872-4678-aa56-1b41f7b84e8d",
   "metadata": {
    "papermill": {
     "duration": 1.04272,
     "end_time": "2023-01-23T17:05:16.155956",
     "exception": false,
     "start_time": "2023-01-23T17:05:15.113236",
     "status": "completed"
    },
    "tags": []
   },
   "outputs": [],
   "source": [
    "m = 256 # matrix size 250\n",
    "A = [[random.randrange(m) for j in range(m)] for i in range(m)]\n",
    "B = [[random.randrange(m) for j in range(m)] for i in range(m)]"
   ]
  },
  {
   "cell_type": "code",
   "execution_count": 19,
   "id": "72014155-eff2-4bae-8180-7e812bfb8c78",
   "metadata": {
    "papermill": {
     "duration": 784.628082,
     "end_time": "2023-01-23T17:18:20.820489",
     "exception": false,
     "start_time": "2023-01-23T17:05:16.192407",
     "status": "completed"
    },
    "tags": []
   },
   "outputs": [
    {
     "name": "stdout",
     "output_type": "stream",
     "text": [
      "1.85 s ± 0 ns per loop (mean ± std. dev. of 1 run, 1 loop each)\n"
     ]
    }
   ],
   "source": [
    "%timeit -r 1 matrix_multiply(A,B)"
   ]
  },
  {
   "cell_type": "markdown",
   "id": "9513fcbf-b9c6-4f63-8e94-90ba3d399ce7",
   "metadata": {},
   "source": [
    "On this cpu this took about two seconds."
   ]
  },
  {
   "cell_type": "markdown",
   "id": "97930bdb-49bb-4710-b39a-24e85b21bcce",
   "metadata": {
    "papermill": {
     "duration": 0.036686,
     "end_time": "2023-01-23T17:18:20.894560",
     "exception": false,
     "start_time": "2023-01-23T17:18:20.857874",
     "status": "completed"
    },
    "tags": []
   },
   "source": [
    "# Implement in Numpy\n",
    "Numpy is a Python package with numerical arrays similar to those found in R, C and Fortran. So they are like the lists above but all elements must be of the same numeric type such as a float or int. Numpy sends matrix calculations to numerical libraries written in C (or if you want, to languages linkable to C, such as Fortran).   "
   ]
  },
  {
   "cell_type": "code",
   "execution_count": 20,
   "id": "a8da0151-eda2-4150-8acd-0e8b4bb06c30",
   "metadata": {
    "papermill": {
     "duration": 0.26552,
     "end_time": "2023-01-23T17:18:21.197059",
     "exception": false,
     "start_time": "2023-01-23T17:18:20.931539",
     "status": "completed"
    },
    "tags": []
   },
   "outputs": [],
   "source": [
    "import numpy as np\n",
    "A_np = np.array(A)\n",
    "B_np = np.array(B)"
   ]
  },
  {
   "cell_type": "code",
   "execution_count": 21,
   "id": "b8ec50f1-cad7-4e50-8e4a-feca90c29b2e",
   "metadata": {
    "papermill": {
     "duration": 0.043888,
     "end_time": "2023-01-23T17:18:21.278074",
     "exception": false,
     "start_time": "2023-01-23T17:18:21.234186",
     "status": "completed"
    },
    "tags": []
   },
   "outputs": [
    {
     "data": {
      "text/plain": [
       "array([[158,  29, 146, ..., 170,  66, 245],\n",
       "       [ 72,  13,  40, ..., 243, 214,  77],\n",
       "       [171, 150, 212, ..., 177,  19,   2],\n",
       "       ...,\n",
       "       [133, 250, 153, ..., 138, 125, 102],\n",
       "       [ 31, 195, 121, ...,  78, 165, 157],\n",
       "       [184, 138,  29, ...,   3, 221, 199]])"
      ]
     },
     "execution_count": 21,
     "metadata": {},
     "output_type": "execute_result"
    }
   ],
   "source": [
    "A_np"
   ]
  },
  {
   "cell_type": "code",
   "execution_count": 22,
   "id": "07d7d106-33b7-4c02-9bf3-8da35cd425cb",
   "metadata": {
    "papermill": {
     "duration": 6.949785,
     "end_time": "2023-01-23T17:18:28.265087",
     "exception": false,
     "start_time": "2023-01-23T17:18:21.315302",
     "status": "completed"
    },
    "tags": []
   },
   "outputs": [
    {
     "name": "stdout",
     "output_type": "stream",
     "text": [
      "20.9 ms ± 34.7 µs per loop (mean ± std. dev. of 7 runs, 10 loops each)\n"
     ]
    }
   ],
   "source": [
    "%%timeit\n",
    "np.matmul(A_np,B_np)"
   ]
  },
  {
   "cell_type": "markdown",
   "id": "ed9367f0-6916-417f-b3cf-200534235e0c",
   "metadata": {
    "papermill": {
     "duration": 0.037179,
     "end_time": "2023-01-23T17:18:28.339809",
     "exception": false,
     "start_time": "2023-01-23T17:18:28.302630",
     "status": "completed"
    },
    "tags": []
   },
   "source": [
    "So how much faster is that?\n",
    "Let's say it was 20ms. The Python calculation was about 2s, that is, 2000ms. Hence Numpy was ~100X faster! "
   ]
  },
  {
   "cell_type": "markdown",
   "id": "e4b8bfbe-40b7-4082-b136-7b17fa01c290",
   "metadata": {
    "papermill": {
     "duration": 0.037593,
     "end_time": "2023-01-23T17:18:28.414501",
     "exception": false,
     "start_time": "2023-01-23T17:18:28.376908",
     "status": "completed"
    },
    "tags": []
   },
   "source": [
    "# PyTorch"
   ]
  },
  {
   "cell_type": "code",
   "execution_count": 23,
   "id": "7f1de9d6-2fee-491c-9b29-ef1a323392c4",
   "metadata": {
    "papermill": {
     "duration": 0.48299,
     "end_time": "2023-01-23T17:18:28.934802",
     "exception": false,
     "start_time": "2023-01-23T17:18:28.451812",
     "status": "completed"
    },
    "tags": []
   },
   "outputs": [],
   "source": [
    "import torch"
   ]
  },
  {
   "cell_type": "markdown",
   "id": "ad1dc464-f183-4e0a-becb-5d5e603ccc4e",
   "metadata": {
    "tags": []
   },
   "source": [
    "First let's try it on the CPU in PyTorch. It should be about the same speed as Numpy as it should call to the same C libraries.\n",
    "Then we will move the data to the GPU and perform the matrix multiply there."
   ]
  },
  {
   "cell_type": "code",
   "execution_count": 24,
   "id": "56e25052-f534-4f51-a26e-c374b2967c20",
   "metadata": {
    "papermill": {
     "duration": 0.125301,
     "end_time": "2023-01-23T17:18:29.098455",
     "exception": false,
     "start_time": "2023-01-23T17:18:28.973154",
     "status": "completed"
    },
    "tags": []
   },
   "outputs": [],
   "source": [
    "A_t = torch.tensor(A)\n",
    "B_t = torch.tensor(B)"
   ]
  },
  {
   "cell_type": "code",
   "execution_count": 25,
   "id": "dbcf495e-d6d1-4f0a-9bb3-5a63478ee780",
   "metadata": {
    "tags": []
   },
   "outputs": [
    {
     "data": {
      "text/plain": [
       "torch.int64"
      ]
     },
     "execution_count": 25,
     "metadata": {},
     "output_type": "execute_result"
    }
   ],
   "source": [
    "A_t.dtype"
   ]
  },
  {
   "cell_type": "code",
   "execution_count": 26,
   "id": "a49d744a-d028-4385-b486-614f7a837549",
   "metadata": {
    "papermill": {
     "duration": 9.102549,
     "end_time": "2023-01-23T17:18:38.245363",
     "exception": false,
     "start_time": "2023-01-23T17:18:29.142814",
     "status": "completed"
    },
    "tags": []
   },
   "outputs": [
    {
     "name": "stdout",
     "output_type": "stream",
     "text": [
      "2.56 ms ± 5.34 µs per loop (mean ± std. dev. of 7 runs, 100 loops each)\n"
     ]
    }
   ],
   "source": [
    "%%timeit\n",
    "torch.matmul(A_t,B_t)"
   ]
  },
  {
   "cell_type": "markdown",
   "id": "294824c5-f336-438b-b9ef-dbd1539ad77d",
   "metadata": {
    "papermill": {
     "duration": 0.037816,
     "end_time": "2023-01-23T17:18:38.321017",
     "exception": false,
     "start_time": "2023-01-23T17:18:38.283201",
     "status": "completed"
    },
    "tags": []
   },
   "source": [
    "Surprisingly this was on the order of a 5-10X improvement over Numpy. We will see this is the result of a difference in data type and the impact that has on the matrix computation. Indeed, if we switch to a 64 bit float instead of a 64 bit integer data type, we will again see an improvement of 10X."
   ]
  },
  {
   "cell_type": "code",
   "execution_count": 27,
   "id": "aaae786a-b9e3-48d8-8129-588180a8329b",
   "metadata": {
    "tags": []
   },
   "outputs": [],
   "source": [
    "A_td = torch.DoubleTensor(A)\n",
    "B_td = torch.DoubleTensor(B)"
   ]
  },
  {
   "cell_type": "code",
   "execution_count": 28,
   "id": "aef7cc21-2040-48d9-bdb7-5e46cc1462c3",
   "metadata": {
    "tags": []
   },
   "outputs": [
    {
     "name": "stdout",
     "output_type": "stream",
     "text": [
      "285 µs ± 7.56 µs per loop (mean ± std. dev. of 7 runs, 1000 loops each)\n"
     ]
    }
   ],
   "source": [
    "%%timeit\n",
    "torch.matmul(A_td,B_td)"
   ]
  },
  {
   "cell_type": "markdown",
   "id": "e98a4112-8123-4f3d-a26b-dca054557619",
   "metadata": {},
   "source": [
    "In total, we are at on the order of a ~10000X improvement over the original pure Python and naive matrix multiply implementation."
   ]
  },
  {
   "cell_type": "markdown",
   "id": "d1c84a4f-394d-4551-8a2e-45b499aa3601",
   "metadata": {
    "papermill": {
     "duration": 0.037644,
     "end_time": "2023-01-23T17:18:38.396457",
     "exception": false,
     "start_time": "2023-01-23T17:18:38.358813",
     "status": "completed"
    },
    "tags": []
   },
   "source": [
    "# Let's try that last computation on the GPU\n",
    "First we check that GPU's are available to us.\n",
    "One way to do this is from the command line using the command `nvidia-smi`."
   ]
  },
  {
   "cell_type": "code",
   "execution_count": 29,
   "id": "08f1389b-74da-49aa-8ea8-6d9d7a17050b",
   "metadata": {
    "papermill": {
     "duration": 0.24903,
     "end_time": "2023-01-23T17:18:38.683483",
     "exception": false,
     "start_time": "2023-01-23T17:18:38.434453",
     "status": "completed"
    },
    "tags": []
   },
   "outputs": [
    {
     "name": "stdout",
     "output_type": "stream",
     "text": [
      "Wed Jan 25 14:46:09 2023       \n",
      "+-----------------------------------------------------------------------------+\n",
      "| NVIDIA-SMI 470.57.02    Driver Version: 470.57.02    CUDA Version: 11.4     |\n",
      "|-------------------------------+----------------------+----------------------+\n",
      "| GPU  Name        Persistence-M| Bus-Id        Disp.A | Volatile Uncorr. ECC |\n",
      "| Fan  Temp  Perf  Pwr:Usage/Cap|         Memory-Usage | GPU-Util  Compute M. |\n",
      "|                               |                      |               MIG M. |\n",
      "|===============================+======================+======================|\n",
      "|   0  Tesla T4            Off  | 00000000:00:1E.0 Off |                    0 |\n",
      "| N/A   28C    P0    25W /  70W |      0MiB / 15109MiB |      0%      Default |\n",
      "|                               |                      |                  N/A |\n",
      "+-------------------------------+----------------------+----------------------+\n",
      "                                                                               \n",
      "+-----------------------------------------------------------------------------+\n",
      "| Processes:                                                                  |\n",
      "|  GPU   GI   CI        PID   Type   Process name                  GPU Memory |\n",
      "|        ID   ID                                                   Usage      |\n",
      "|=============================================================================|\n",
      "|  No running processes found                                                 |\n",
      "+-----------------------------------------------------------------------------+\n"
     ]
    }
   ],
   "source": [
    "!nvidia-smi"
   ]
  },
  {
   "cell_type": "markdown",
   "id": "8443e56b-fd92-4020-9ec4-d489ff7ae84e",
   "metadata": {
    "papermill": {
     "duration": 0.038106,
     "end_time": "2023-01-23T17:18:38.760272",
     "exception": false,
     "start_time": "2023-01-23T17:18:38.722166",
     "status": "completed"
    },
    "tags": []
   },
   "source": [
    "We can also use utilities in Pytorch."
   ]
  },
  {
   "cell_type": "code",
   "execution_count": 30,
   "id": "d6782514-ad65-49ea-9968-4669d66b77b4",
   "metadata": {
    "papermill": {
     "duration": 0.114219,
     "end_time": "2023-01-23T17:18:38.912964",
     "exception": false,
     "start_time": "2023-01-23T17:18:38.798745",
     "status": "completed"
    },
    "tags": []
   },
   "outputs": [
    {
     "data": {
      "text/plain": [
       "True"
      ]
     },
     "execution_count": 30,
     "metadata": {},
     "output_type": "execute_result"
    }
   ],
   "source": [
    "torch.cuda.is_available()"
   ]
  },
  {
   "cell_type": "markdown",
   "id": "ff5201b6-53c4-40b0-b919-aaed4fc850e2",
   "metadata": {
    "papermill": {
     "duration": 0.038663,
     "end_time": "2023-01-23T17:18:38.992605",
     "exception": false,
     "start_time": "2023-01-23T17:18:38.953942",
     "status": "completed"
    },
    "tags": []
   },
   "source": [
    "How many (I requested 1)."
   ]
  },
  {
   "cell_type": "code",
   "execution_count": 31,
   "id": "155424d5-1a18-41b2-9dde-c6813a4884a3",
   "metadata": {
    "papermill": {
     "duration": 0.046143,
     "end_time": "2023-01-23T17:18:39.081934",
     "exception": false,
     "start_time": "2023-01-23T17:18:39.035791",
     "status": "completed"
    },
    "tags": []
   },
   "outputs": [
    {
     "data": {
      "text/plain": [
       "1"
      ]
     },
     "execution_count": 31,
     "metadata": {},
     "output_type": "execute_result"
    }
   ],
   "source": [
    "torch.cuda.device_count()"
   ]
  },
  {
   "cell_type": "markdown",
   "id": "cfa4307b-20da-42fc-b798-682778153da2",
   "metadata": {
    "papermill": {
     "duration": 0.039119,
     "end_time": "2023-01-23T17:18:39.161253",
     "exception": false,
     "start_time": "2023-01-23T17:18:39.122134",
     "status": "completed"
    },
    "tags": []
   },
   "source": [
    "What GPU?"
   ]
  },
  {
   "cell_type": "code",
   "execution_count": 32,
   "id": "4ae3c9d2-20bb-4690-af17-df5115fbd9a4",
   "metadata": {
    "papermill": {
     "duration": 0.046863,
     "end_time": "2023-01-23T17:18:39.247381",
     "exception": false,
     "start_time": "2023-01-23T17:18:39.200518",
     "status": "completed"
    },
    "tags": []
   },
   "outputs": [
    {
     "data": {
      "text/plain": [
       "'Tesla T4'"
      ]
     },
     "execution_count": 32,
     "metadata": {},
     "output_type": "execute_result"
    }
   ],
   "source": [
    "torch.cuda.get_device_name()"
   ]
  },
  {
   "cell_type": "markdown",
   "id": "4830ea41-f51e-4328-b847-226ddd76d8a9",
   "metadata": {
    "papermill": {
     "duration": 0.038951,
     "end_time": "2023-01-23T17:18:39.326218",
     "exception": false,
     "start_time": "2023-01-23T17:18:39.287267",
     "status": "completed"
    },
    "tags": []
   },
   "source": [
    "How much GPU memory currently used? It should be 0 because the previous PyTorch computation never moved the matrices onto the GPU and used the CPU only."
   ]
  },
  {
   "cell_type": "code",
   "execution_count": 33,
   "id": "a91d78f8-184c-41b1-ae82-c62563f4e76e",
   "metadata": {
    "papermill": {
     "duration": 0.046725,
     "end_time": "2023-01-23T17:18:39.412092",
     "exception": false,
     "start_time": "2023-01-23T17:18:39.365367",
     "status": "completed"
    },
    "tags": []
   },
   "outputs": [
    {
     "name": "stdout",
     "output_type": "stream",
     "text": [
      "Memory allocated: 0.0 GB\n",
      "Memory reserved:    0.0 GB\n"
     ]
    }
   ],
   "source": [
    "print('Memory allocated:', round(torch.cuda.memory_allocated()/1024**3,4), 'GB')\n",
    "print('Memory reserved:   ', round(torch.cuda.memory_reserved()/1024**3,4), 'GB')"
   ]
  },
  {
   "cell_type": "markdown",
   "id": "5aa574e6-af02-481f-8b73-291dc94b92bf",
   "metadata": {
    "papermill": {
     "duration": 0.040012,
     "end_time": "2023-01-23T17:18:39.491934",
     "exception": false,
     "start_time": "2023-01-23T17:18:39.451922",
     "status": "completed"
    },
    "tags": []
   },
   "source": [
    "First we move the matrices from the CPU memory to the GPU memory."
   ]
  },
  {
   "cell_type": "code",
   "execution_count": 34,
   "id": "121ec524-0685-4f25-bcb9-2e9daa047961",
   "metadata": {
    "papermill": {
     "duration": 2.14041,
     "end_time": "2023-01-23T17:18:41.671654",
     "exception": false,
     "start_time": "2023-01-23T17:18:39.531244",
     "status": "completed"
    },
    "tags": []
   },
   "outputs": [],
   "source": [
    "A_td = A_td.to('cuda')\n",
    "B_td = B_td.to('cuda')"
   ]
  },
  {
   "cell_type": "code",
   "execution_count": 35,
   "id": "2429ec3a-5d0d-41a2-970f-9d7de5785de3",
   "metadata": {
    "papermill": {
     "duration": 0.046629,
     "end_time": "2023-01-23T17:18:41.758599",
     "exception": false,
     "start_time": "2023-01-23T17:18:41.711970",
     "status": "completed"
    },
    "tags": []
   },
   "outputs": [
    {
     "name": "stdout",
     "output_type": "stream",
     "text": [
      "Memory allocated: 0.001 GB\n",
      "Memory reserved:    0.002 GB\n"
     ]
    }
   ],
   "source": [
    "print('Memory allocated:', round(torch.cuda.memory_allocated()/1024**3,4), 'GB')\n",
    "print('Memory reserved:   ', round(torch.cuda.memory_reserved()/1024**3,4), 'GB')"
   ]
  },
  {
   "cell_type": "code",
   "execution_count": 36,
   "id": "e9ac0d9f-f52e-4fa0-97c6-f4c31885289d",
   "metadata": {
    "papermill": {
     "duration": 9.220099,
     "end_time": "2023-01-23T17:18:51.018753",
     "exception": false,
     "start_time": "2023-01-23T17:18:41.798654",
     "status": "completed"
    },
    "tags": []
   },
   "outputs": [
    {
     "name": "stdout",
     "output_type": "stream",
     "text": [
      "518 µs ± 11.8 µs per loop (mean ± std. dev. of 7 runs, 1 loop each)\n"
     ]
    }
   ],
   "source": [
    "%%timeit\n",
    "# ensure that context initialization finish before you start measuring time\n",
    "torch.matmul(A_td,B_td)\n",
    "torch.cuda.synchronize()"
   ]
  },
  {
   "cell_type": "markdown",
   "id": "e7566632-b562-4b15-9153-236cc86610da",
   "metadata": {
    "papermill": {
     "duration": 0.040523,
     "end_time": "2023-01-23T17:18:51.100152",
     "exception": false,
     "start_time": "2023-01-23T17:18:51.059629",
     "status": "completed"
    },
    "tags": []
   },
   "source": [
    "Depending on the matrix size, one will see ~2X improvement (see below) with a T4 GPU. When the matrix is small it may even run slower on the GPU as the many cores of the GPU are underutilized."
   ]
  },
  {
   "cell_type": "markdown",
   "id": "209290ee-9110-4bcf-9b36-d972445696c7",
   "metadata": {},
   "source": [
    "We add `torch.cuda.synchronize()` to tell Python to wait for the GPU computation to finish before completing the timing. Otherwise, as soon as the computation is handed off to the GPU, `timeit` reports it finished, giving incorrect timings. \n"
   ]
  },
  {
   "cell_type": "markdown",
   "id": "e1ff104a-9d8a-4784-b732-f7cf2e5ab831",
   "metadata": {},
   "source": [
    "In total then, with the GPU we are at on the order of a 20000X improvement."
   ]
  },
  {
   "cell_type": "markdown",
   "id": "93545fe8-2ac9-4b88-920e-360708c47b42",
   "metadata": {
    "papermill": {
     "duration": 0.040785,
     "end_time": "2023-01-23T17:18:51.270496",
     "exception": false,
     "start_time": "2023-01-23T17:18:51.229711",
     "status": "completed"
    },
    "tags": []
   },
   "source": [
    "# Playing with Precision\n",
    "We saw earlier the impact the data type had. New data types in torch are available for single and half precision. We will increase the matrix size so that the timings remain in the ms range and higher. We create two numpy arrays below of size `n` by `n`."
   ]
  },
  {
   "cell_type": "code",
   "execution_count": 37,
   "id": "bf69af5e-926e-4a69-9d7f-d7793255446d",
   "metadata": {
    "tags": [
     "parameters"
    ]
   },
   "outputs": [],
   "source": [
    "n = 10000"
   ]
  },
  {
   "cell_type": "markdown",
   "id": "17481690-ced2-4203-997e-fac3aa8cbb21",
   "metadata": {},
   "source": [
    "The cell below takes care of conversion as the parameter `n` gets passed in as a string when running the notebook as a parameterized compute job."
   ]
  },
  {
   "cell_type": "code",
   "execution_count": 38,
   "id": "951fd46f-9fe1-4415-b703-df8047ff785e",
   "metadata": {
    "tags": []
   },
   "outputs": [],
   "source": [
    "n = int(n)"
   ]
  },
  {
   "cell_type": "code",
   "execution_count": 39,
   "id": "0cdebee3-a19d-43a7-b8e1-fb06089d6413",
   "metadata": {
    "papermill": {
     "duration": 3.36785,
     "end_time": "2023-01-23T17:18:54.679149",
     "exception": false,
     "start_time": "2023-01-23T17:18:51.311299",
     "status": "completed"
    },
    "tags": []
   },
   "outputs": [],
   "source": [
    "C = np.random.rand(n,n)\n",
    "D = np.random.rand(n,n)"
   ]
  },
  {
   "cell_type": "markdown",
   "id": "f8831568-53bb-4218-b02f-107fe6334019",
   "metadata": {
    "papermill": {
     "duration": 0.041422,
     "end_time": "2023-01-23T17:18:54.933912",
     "exception": false,
     "start_time": "2023-01-23T17:18:54.892490",
     "status": "completed"
    },
    "tags": []
   },
   "source": [
    "What is the speed without GPU?"
   ]
  },
  {
   "cell_type": "code",
   "execution_count": 40,
   "id": "a276ea87-6c1d-4d47-a6e0-c9d6eb820176",
   "metadata": {
    "tags": []
   },
   "outputs": [],
   "source": [
    "C_td = torch.DoubleTensor(C)\n",
    "D_td = torch.DoubleTensor(D)"
   ]
  },
  {
   "cell_type": "code",
   "execution_count": 41,
   "id": "54a6600e-8f39-40e0-8b8d-f07fea418551",
   "metadata": {
    "papermill": {
     "duration": 134.222289,
     "end_time": "2023-01-23T17:21:09.197699",
     "exception": false,
     "start_time": "2023-01-23T17:18:54.975410",
     "status": "completed"
    },
    "tags": []
   },
   "outputs": [
    {
     "name": "stdout",
     "output_type": "stream",
     "text": [
      "14.3 s ± 64.6 ms per loop (mean ± std. dev. of 7 runs, 1 loop each)\n"
     ]
    }
   ],
   "source": [
    "%%timeit\n",
    "torch.matmul(C_td,D_td)"
   ]
  },
  {
   "cell_type": "markdown",
   "id": "7173201d-9dc5-42e8-853f-581957f80902",
   "metadata": {
    "papermill": {
     "duration": 0.042228,
     "end_time": "2023-01-23T17:21:09.290563",
     "exception": false,
     "start_time": "2023-01-23T17:21:09.248335",
     "status": "completed"
    },
    "tags": []
   },
   "source": [
    "And on GPU?"
   ]
  },
  {
   "cell_type": "code",
   "execution_count": 42,
   "id": "17416ff5-4950-4975-910f-0e2fa11ff8f8",
   "metadata": {
    "tags": []
   },
   "outputs": [],
   "source": [
    "C_td = C_td.to(\"cuda\")\n",
    "D_td = D_td.to(\"cuda\")"
   ]
  },
  {
   "cell_type": "code",
   "execution_count": 43,
   "id": "2e893bae-6f1e-487c-82db-ec5a95f0c9ce",
   "metadata": {
    "papermill": {
     "duration": 65.238265,
     "end_time": "2023-01-23T17:22:14.571182",
     "exception": false,
     "start_time": "2023-01-23T17:21:09.332917",
     "status": "completed"
    },
    "tags": []
   },
   "outputs": [
    {
     "name": "stdout",
     "output_type": "stream",
     "text": [
      "7.98 s ± 25 ms per loop (mean ± std. dev. of 7 runs, 1 loop each)\n"
     ]
    }
   ],
   "source": [
    "%%timeit\n",
    "torch.matmul(C_td,D_td)\n",
    "torch.cuda.synchronize()"
   ]
  },
  {
   "cell_type": "markdown",
   "id": "341f4e77-f81e-4609-be7c-656f17399af5",
   "metadata": {
    "papermill": {
     "duration": 0.040833,
     "end_time": "2023-01-23T17:18:54.761329",
     "exception": false,
     "start_time": "2023-01-23T17:18:54.720496",
     "status": "completed"
    },
    "tags": []
   },
   "source": [
    "How much bigger are these matrices?"
   ]
  },
  {
   "cell_type": "code",
   "execution_count": 44,
   "id": "41b60bd6-cd19-4716-84dc-442612ba6702",
   "metadata": {
    "papermill": {
     "duration": 0.048475,
     "end_time": "2023-01-23T17:18:54.850737",
     "exception": false,
     "start_time": "2023-01-23T17:18:54.802262",
     "status": "completed"
    },
    "tags": []
   },
   "outputs": [
    {
     "name": "stdout",
     "output_type": "stream",
     "text": [
      "Memory allocated: 1.4911 GB\n",
      "Memory reserved:    2.2402 GB\n"
     ]
    }
   ],
   "source": [
    "print('Memory allocated:', round(torch.cuda.memory_allocated()/1024**3,4), 'GB')\n",
    "print('Memory reserved:   ', round(torch.cuda.memory_reserved()/1024**3,4), 'GB')"
   ]
  },
  {
   "cell_type": "markdown",
   "id": "aa0db0cf-cc48-4903-bd00-a3137efd40f5",
   "metadata": {
    "papermill": {
     "duration": 0.041821,
     "end_time": "2023-01-23T17:22:14.654909",
     "exception": false,
     "start_time": "2023-01-23T17:22:14.613088",
     "status": "completed"
    },
    "tags": []
   },
   "source": [
    "Another way to time the GPU computation is with `torch.cuda.Event()`. Let's see how the timings compare."
   ]
  },
  {
   "cell_type": "code",
   "execution_count": 45,
   "id": "44ed2224-d29e-41e8-ad58-a939ee17eeac",
   "metadata": {
    "papermill": {
     "duration": 8.047657,
     "end_time": "2023-01-23T17:22:22.744850",
     "exception": false,
     "start_time": "2023-01-23T17:22:14.697193",
     "status": "completed"
    },
    "tags": []
   },
   "outputs": [
    {
     "name": "stdout",
     "output_type": "stream",
     "text": [
      "7.95766943359375\n"
     ]
    }
   ],
   "source": [
    "start = torch.cuda.Event(enable_timing=True)\n",
    "end = torch.cuda.Event(enable_timing=True)\n",
    "\n",
    "start.record()\n",
    "torch.matmul(C_td,D_td)\n",
    "end.record()\n",
    "\n",
    "# Waits for everything to finish running\n",
    "torch.cuda.synchronize()\n",
    "\n",
    "print(start.elapsed_time(end)/1000)"
   ]
  },
  {
   "cell_type": "markdown",
   "id": "2b9262ad-25f2-43a9-9e23-73586835057b",
   "metadata": {
    "papermill": {
     "duration": 0.042407,
     "end_time": "2023-01-23T17:22:22.829916",
     "exception": false,
     "start_time": "2023-01-23T17:22:22.787509",
     "status": "completed"
    },
    "tags": []
   },
   "source": [
    "We get the same result, so that is comforting!"
   ]
  },
  {
   "cell_type": "markdown",
   "id": "0c3b9952-e28a-4437-9ad4-c0a64885654c",
   "metadata": {
    "papermill": {
     "duration": 0.042201,
     "end_time": "2023-01-23T17:22:23.011105",
     "exception": false,
     "start_time": "2023-01-23T17:22:22.968904",
     "status": "completed"
    },
    "tags": []
   },
   "source": [
    "Let's check memory now."
   ]
  },
  {
   "cell_type": "markdown",
   "id": "445f126b-fbfb-4b9f-a7d5-7d35c0f7a37c",
   "metadata": {
    "papermill": {
     "duration": 0.042747,
     "end_time": "2023-01-23T17:22:23.188933",
     "exception": false,
     "start_time": "2023-01-23T17:22:23.146186",
     "status": "completed"
    },
    "tags": []
   },
   "source": [
    "## Optimizations: Single and half precision, matrix sizing\n",
    "Next we explore changing the datatype type and the matrix size. We will loop the computation to have it perform 1000 matrix multiplies and time that."
   ]
  },
  {
   "cell_type": "markdown",
   "id": "99f02150-d32f-4708-a829-74e744ffe915",
   "metadata": {
    "papermill": {
     "duration": 0.043278,
     "end_time": "2023-01-23T17:22:23.796995",
     "exception": false,
     "start_time": "2023-01-23T17:22:23.753717",
     "status": "completed"
    },
    "tags": []
   },
   "source": [
    "Next, single precision on the GPU."
   ]
  },
  {
   "cell_type": "code",
   "execution_count": 46,
   "id": "98bd520e-efc3-41d8-8e2e-5f340fe70027",
   "metadata": {
    "papermill": {
     "duration": 0.058034,
     "end_time": "2023-01-23T17:22:23.898323",
     "exception": false,
     "start_time": "2023-01-23T17:22:23.840289",
     "status": "completed"
    },
    "tags": []
   },
   "outputs": [],
   "source": [
    "C_ts = torch.cuda.FloatTensor(C)\n",
    "D_ts = torch.cuda.FloatTensor(D)"
   ]
  },
  {
   "cell_type": "code",
   "execution_count": 47,
   "id": "f54dac7d-051c-4d84-8755-a4d26a4bd0dd",
   "metadata": {
    "papermill": {
     "duration": 0.049349,
     "end_time": "2023-01-23T17:22:23.991580",
     "exception": false,
     "start_time": "2023-01-23T17:22:23.942231",
     "status": "completed"
    },
    "tags": []
   },
   "outputs": [
    {
     "name": "stdout",
     "output_type": "stream",
     "text": [
      "torch.float32\n"
     ]
    }
   ],
   "source": [
    "print(C_ts.dtype)"
   ]
  },
  {
   "cell_type": "markdown",
   "id": "f1c3ee8f-a4b8-4e8a-9f0a-e7b751a3428d",
   "metadata": {
    "papermill": {
     "duration": 0.044896,
     "end_time": "2023-01-23T17:22:24.082009",
     "exception": false,
     "start_time": "2023-01-23T17:22:24.037113",
     "status": "completed"
    },
    "tags": []
   },
   "source": [
    "Finally, half precision on the GPU."
   ]
  },
  {
   "cell_type": "code",
   "execution_count": 48,
   "id": "9bce9a3e-a2dc-4c2a-9dfb-dc93105abdc5",
   "metadata": {
    "papermill": {
     "duration": 0.055446,
     "end_time": "2023-01-23T17:22:24.181722",
     "exception": false,
     "start_time": "2023-01-23T17:22:24.126276",
     "status": "completed"
    },
    "tags": []
   },
   "outputs": [],
   "source": [
    "C_th = torch.cuda.HalfTensor(C)\n",
    "D_th = torch.cuda.HalfTensor(D)"
   ]
  },
  {
   "cell_type": "code",
   "execution_count": 49,
   "id": "8cb27d17-7ca1-4c04-b2fd-27a509af02ed",
   "metadata": {
    "papermill": {
     "duration": 0.050364,
     "end_time": "2023-01-23T17:22:24.276346",
     "exception": false,
     "start_time": "2023-01-23T17:22:24.225982",
     "status": "completed"
    },
    "tags": []
   },
   "outputs": [
    {
     "name": "stdout",
     "output_type": "stream",
     "text": [
      "torch.float16\n"
     ]
    }
   ],
   "source": [
    "print(C_th.dtype)"
   ]
  },
  {
   "cell_type": "markdown",
   "id": "7f510171-d45b-4d25-922d-8053057ebbaf",
   "metadata": {
    "papermill": {
     "duration": 0.044134,
     "end_time": "2023-01-23T17:22:24.365567",
     "exception": false,
     "start_time": "2023-01-23T17:22:24.321433",
     "status": "completed"
    },
    "tags": []
   },
   "source": [
    "Let's try the computation now with these different precisions.\n",
    "\n",
    "First single precision on the GPU. Recall, a similar double precision computation earlier was already ~20000 X faster than pure Python."
   ]
  },
  {
   "cell_type": "code",
   "execution_count": 50,
   "id": "137c9ab2-b65b-4ade-ad2a-1ad5173f60d3",
   "metadata": {
    "papermill": {
     "duration": 29.524675,
     "end_time": "2023-01-23T17:22:53.934389",
     "exception": false,
     "start_time": "2023-01-23T17:22:24.409714",
     "status": "completed"
    },
    "tags": []
   },
   "outputs": [
    {
     "name": "stdout",
     "output_type": "stream",
     "text": [
      "468 ms ± 13.2 ms per loop (mean ± std. dev. of 7 runs, 1 loop each)\n"
     ]
    }
   ],
   "source": [
    "%%timeit\n",
    "torch.matmul(C_ts,D_ts)\n",
    "torch.cuda.synchronize()"
   ]
  },
  {
   "cell_type": "markdown",
   "id": "da7476b1-4ae3-4121-8ad8-70314f3b1db8",
   "metadata": {
    "papermill": {
     "duration": 0.045725,
     "end_time": "2023-01-23T17:22:54.025246",
     "exception": false,
     "start_time": "2023-01-23T17:22:53.979521",
     "status": "completed"
    },
    "tags": []
   },
   "source": [
    "The earlier double precision calculation was about 7s, or 7000ms, so this was a 10X improvement.\n",
    "Next, half precision on the GPU."
   ]
  },
  {
   "cell_type": "code",
   "execution_count": 51,
   "id": "51620d0c-9894-4422-b4dd-56be7539184a",
   "metadata": {
    "papermill": {
     "duration": 16.71141,
     "end_time": "2023-01-23T17:23:10.781916",
     "exception": false,
     "start_time": "2023-01-23T17:22:54.070506",
     "status": "completed"
    },
    "tags": []
   },
   "outputs": [
    {
     "name": "stdout",
     "output_type": "stream",
     "text": [
      "108 ms ± 414 µs per loop (mean ± std. dev. of 7 runs, 10 loops each)\n"
     ]
    }
   ],
   "source": [
    "%%timeit\n",
    "torch.matmul(C_th,D_th)\n",
    "torch.cuda.synchronize()"
   ]
  },
  {
   "cell_type": "markdown",
   "id": "ef1ab4c1-982f-49f5-b400-fe42ab12158f",
   "metadata": {
    "papermill": {
     "duration": 0.053537,
     "end_time": "2023-01-23T17:23:10.890088",
     "exception": false,
     "start_time": "2023-01-23T17:23:10.836551",
     "status": "completed"
    },
    "tags": []
   },
   "source": [
    "So here we see a 5-10X improvement over single precision."
   ]
  },
  {
   "cell_type": "markdown",
   "id": "8bbd3d09-b034-4e7d-9c83-8f787499bb10",
   "metadata": {
    "papermill": {
     "duration": 0.054936,
     "end_time": "2023-01-23T17:23:20.264235",
     "exception": false,
     "start_time": "2023-01-23T17:23:20.209299",
     "status": "completed"
    },
    "tags": []
   },
   "source": [
    "With half precision, now we are at ~50-100X double precision on GPU.  "
   ]
  },
  {
   "cell_type": "markdown",
   "id": "bbe39fdc-759b-455a-a9c0-fad83a0a0103",
   "metadata": {
    "papermill": {
     "duration": 0.055523,
     "end_time": "2023-01-23T17:23:22.273032",
     "exception": false,
     "start_time": "2023-01-23T17:23:22.217509",
     "status": "completed"
    },
    "tags": []
   },
   "source": [
    "For a grand total of 2,000,000X the naive implementation of matrix multiply in pure Python!"
   ]
  }
 ],
 "metadata": {
  "instance_type": "ml.g4dn.xlarge",
  "kernelspec": {
   "display_name": "Python 3 (PyTorch 1.8 Python 3.6 GPU Optimized)",
   "language": "python",
   "name": "python3__SAGEMAKER_INTERNAL__arn:aws:sagemaker:us-east-1:081325390199:image/pytorch-1.8-gpu-py36"
  },
  "language_info": {
   "codemirror_mode": {
    "name": "ipython",
    "version": 3
   },
   "file_extension": ".py",
   "mimetype": "text/x-python",
   "name": "python",
   "nbconvert_exporter": "python",
   "pygments_lexer": "ipython3",
   "version": "3.6.13"
  },
  "papermill": {
   "default_parameters": {},
   "duration": 1090.560049,
   "end_time": "2023-01-23T17:23:23.133316",
   "environment_variables": {},
   "exception": null,
   "input_path": "matrix-multiply-compared.ipynb",
   "output_path": "/opt/ml/output/data/matrixmult-matrixmult-2023-01-23T17-00-04-998Z.ipynb",
   "parameters": {},
   "start_time": "2023-01-23T17:05:12.573267",
   "version": "2.3.4"
  }
 },
 "nbformat": 4,
 "nbformat_minor": 5
}
