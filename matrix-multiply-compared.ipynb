{
 "cells": [
  {
   "cell_type": "markdown",
   "id": "c76f78fe-7f0d-4c85-ae6c-0957ffe60269",
   "metadata": {},
   "source": [
    "# Matrix multiply speedup: X 63,000?\n",
    "Let's code it in pure python, then compare with Numpy (C) on CPU, Pytorch and Tensorflow on GPU.\n",
    "\n",
    "Let's write down two matrices and multiply them using Python.\n",
    "\n",
    "This will also serve as a five minute introduction to Python!\n",
    "\n",
    "The matrices we will use are the 2x2 matrices below.\n",
    "$$ \n",
    "A =\\begin{bmatrix}\n",
    "1 & 2 \\\\\n",
    "3 & 4 \\\\\n",
    "\\end{bmatrix}\n",
    "\\text{ }\n",
    "B =\\begin{bmatrix}\n",
    "5 & 6 \\\\\n",
    "7 & 8 \\\\\n",
    "\\end{bmatrix}\n",
    "$$\n",
    "A list is a Python data type that is commonly used when working with arrays. In the frameworks we will use, one common way to define a matrix is as a list of lists."
   ]
  },
  {
   "cell_type": "code",
   "execution_count": 5,
   "id": "8fdc1a39-693b-49e0-bbfc-13533bc4fdc0",
   "metadata": {},
   "outputs": [],
   "source": [
    "A = [[1,2],[3,4]] "
   ]
  },
  {
   "cell_type": "code",
   "execution_count": 26,
   "id": "a820993c-9533-4029-8f22-4011ba8551e1",
   "metadata": {},
   "outputs": [
    {
     "data": {
      "text/plain": [
       "[[1, 2], [3, 4]]"
      ]
     },
     "execution_count": 26,
     "metadata": {},
     "output_type": "execute_result"
    }
   ],
   "source": [
    "A"
   ]
  },
  {
   "cell_type": "code",
   "execution_count": 27,
   "id": "044ac557-f5b1-41a5-a6e7-7d55c895c19b",
   "metadata": {},
   "outputs": [
    {
     "data": {
      "text/plain": [
       "list"
      ]
     },
     "execution_count": 27,
     "metadata": {},
     "output_type": "execute_result"
    }
   ],
   "source": [
    "type(A)"
   ]
  },
  {
   "cell_type": "code",
   "execution_count": 13,
   "id": "7fa7907f-4d4e-4694-be58-79654f52b742",
   "metadata": {},
   "outputs": [
    {
     "name": "stdout",
     "output_type": "stream",
     "text": [
      "[1, 2]\n",
      "[3, 4]\n"
     ]
    }
   ],
   "source": [
    "for row in A:\n",
    "  print(row)"
   ]
  },
  {
   "cell_type": "code",
   "execution_count": 17,
   "id": "726b86a8-52ce-4ca4-a483-c929a268135b",
   "metadata": {},
   "outputs": [],
   "source": [
    "B = [[5,6],[7,8]]"
   ]
  },
  {
   "cell_type": "code",
   "execution_count": 28,
   "id": "a8fb78a4-ad47-43cf-9ae6-fb5d56f6c458",
   "metadata": {},
   "outputs": [
    {
     "data": {
      "text/plain": [
       "[5, 6]"
      ]
     },
     "execution_count": 28,
     "metadata": {},
     "output_type": "execute_result"
    }
   ],
   "source": [
    "B[0]"
   ]
  },
  {
   "cell_type": "code",
   "execution_count": 29,
   "id": "9952f3ee-a097-4612-9fc0-7b0772fd346b",
   "metadata": {},
   "outputs": [
    {
     "data": {
      "text/plain": [
       "list"
      ]
     },
     "execution_count": 29,
     "metadata": {},
     "output_type": "execute_result"
    }
   ],
   "source": [
    "type(B[0])"
   ]
  },
  {
   "cell_type": "code",
   "execution_count": 23,
   "id": "552a77c1-ca87-445f-85a3-a6d05115fa19",
   "metadata": {},
   "outputs": [
    {
     "data": {
      "text/plain": [
       "[7, 8]"
      ]
     },
     "execution_count": 23,
     "metadata": {},
     "output_type": "execute_result"
    }
   ],
   "source": [
    "B[1]"
   ]
  },
  {
   "cell_type": "code",
   "execution_count": 24,
   "id": "f6057d94-6dfb-42bc-8dff-d22df3692b5c",
   "metadata": {},
   "outputs": [
    {
     "name": "stdout",
     "output_type": "stream",
     "text": [
      "[5, 6]\n",
      "[7, 8]\n"
     ]
    }
   ],
   "source": [
    "row1_B = B[0]\n",
    "row2_B = B[1]\n",
    "print(row1_B)\n",
    "print(row2_B)"
   ]
  },
  {
   "cell_type": "code",
   "execution_count": 32,
   "id": "4fcf3c68-ccd9-4f2e-b61f-0cc42351cc2e",
   "metadata": {},
   "outputs": [
    {
     "data": {
      "text/plain": [
       "6"
      ]
     },
     "execution_count": 32,
     "metadata": {},
     "output_type": "execute_result"
    }
   ],
   "source": [
    "element_1_2 = B[0][1]\n",
    "element_1_2"
   ]
  },
  {
   "cell_type": "code",
   "execution_count": 33,
   "id": "bcf9260c-7901-47ad-8465-4600476efffd",
   "metadata": {},
   "outputs": [
    {
     "name": "stdout",
     "output_type": "stream",
     "text": [
      "0\n",
      "1\n"
     ]
    }
   ],
   "source": [
    "for i in range(2):\n",
    "    print(i)"
   ]
  },
  {
   "cell_type": "code",
   "execution_count": 44,
   "id": "fa7739aa-13bd-4bd9-b339-4753462b5898",
   "metadata": {},
   "outputs": [],
   "source": [
    "def matrix_multiply(A,B):\n",
    "    AB = [[0,0],[0,0]] # Create matrix of zeros\n",
    "    for i in range(2):\n",
    "        for j in range(2):\n",
    "            AB[i][j] = sum(A[i][k]*B[k][j] for k in range(2))\n",
    "    return AB"
   ]
  },
  {
   "cell_type": "code",
   "execution_count": 48,
   "id": "e4aa3948-a28c-4441-9d9a-8d9c6a69185b",
   "metadata": {},
   "outputs": [
    {
     "name": "stdout",
     "output_type": "stream",
     "text": [
      "Help on function matrix_multiply in module __main__:\n",
      "\n",
      "matrix_multiply(A, B)\n",
      "    Multiply square matrices and return result\n",
      "\n"
     ]
    }
   ],
   "source": [
    "help(matrix_multiply)"
   ]
  },
  {
   "cell_type": "code",
   "execution_count": 49,
   "id": "a72ed067-a67a-4f1e-84af-7c65fc3a89f5",
   "metadata": {},
   "outputs": [
    {
     "data": {
      "text/plain": [
       "[[19, 22], [43, 50]]"
      ]
     },
     "execution_count": 49,
     "metadata": {},
     "output_type": "execute_result"
    }
   ],
   "source": [
    "matrix_multiply(A,B)"
   ]
  },
  {
   "cell_type": "markdown",
   "id": "83ea686a-4c65-4aee-85eb-e6302d61baba",
   "metadata": {},
   "source": [
    "The result is \n",
    "$$ \n",
    "\\begin{bmatrix}\n",
    "1 & 2 \\\\\n",
    "3 & 4 \\\\\n",
    "\\end{bmatrix}\n",
    "\\cdot\n",
    "\\begin{bmatrix}\n",
    "5 & 6 \\\\\n",
    "7 & 8 \\\\\n",
    "\\end{bmatrix}\n",
    "= \\begin{bmatrix}\n",
    "19 & 22 \\\\\n",
    "43 & 50 \\\\\n",
    "\\end{bmatrix}\n",
    "$$"
   ]
  },
  {
   "cell_type": "code",
   "execution_count": 102,
   "id": "a60a9928-1073-47b8-965e-b8157b4fbc63",
   "metadata": {},
   "outputs": [],
   "source": [
    "def matrix_multiply(A,B):\n",
    "    \"\"\"Multiply square matrices and return result\"\"\"\n",
    "    m = len(A) \n",
    "    AB = [[0]*m for i in range(m)] # create matrix of zeros\n",
    "    \n",
    "    for i in range(m):\n",
    "        for j in range(m):\n",
    "            AB[i][j] = sum(A[i][k]*B[k][j] for k in range(m))\n",
    "    \n",
    "    return AB\n",
    "        "
   ]
  },
  {
   "cell_type": "code",
   "execution_count": 96,
   "id": "de189aec-64a8-4027-9186-93116087226a",
   "metadata": {},
   "outputs": [],
   "source": [
    "import random\n"
   ]
  },
  {
   "cell_type": "code",
   "execution_count": 90,
   "id": "96449ade-2b6c-4630-9421-dab2294c9977",
   "metadata": {},
   "outputs": [
    {
     "data": {
      "text/plain": [
       "778"
      ]
     },
     "execution_count": 90,
     "metadata": {},
     "output_type": "execute_result"
    }
   ],
   "source": [
    "random.randrange(m) #random number between 0 and m"
   ]
  },
  {
   "cell_type": "code",
   "execution_count": 112,
   "id": "3859881e-e872-4678-aa56-1b41f7b84e8d",
   "metadata": {},
   "outputs": [],
   "source": [
    "m = 850 # matrix size 850\n",
    "A = [[random.randrange(m) for j in range(m)] for i in range(m)]\n",
    "B = [[random.randrange(m) for j in range(m)] for i in range(m)]"
   ]
  },
  {
   "cell_type": "code",
   "execution_count": 120,
   "id": "72014155-eff2-4bae-8180-7e812bfb8c78",
   "metadata": {
    "tags": []
   },
   "outputs": [
    {
     "name": "stdout",
     "output_type": "stream",
     "text": [
      "1min 3s ± 138 ms per loop (mean ± std. dev. of 7 runs, 1 loop each)\n"
     ]
    }
   ],
   "source": [
    "%%timeit\n",
    "matrix_multiply(A,B)"
   ]
  },
  {
   "cell_type": "markdown",
   "id": "97930bdb-49bb-4710-b39a-24e85b21bcce",
   "metadata": {},
   "source": [
    "# Implement in Numpy\n",
    "Numpy is a Python package with numerical arrays similar to those found in R, C and Fortran. So they are like the lists above but all elements must be of the same numeric type such as a float or int. Numpy sends matrix calculations to numerical libraries written in C (or if you want, to languages linkable to C, such as Fortran).   "
   ]
  },
  {
   "cell_type": "code",
   "execution_count": 117,
   "id": "a8da0151-eda2-4150-8acd-0e8b4bb06c30",
   "metadata": {},
   "outputs": [],
   "source": [
    "import numpy as np\n",
    "A_np = np.array(A)\n",
    "B_np = np.array(B)"
   ]
  },
  {
   "cell_type": "code",
   "execution_count": 118,
   "id": "b8ec50f1-cad7-4e50-8e4a-feca90c29b2e",
   "metadata": {},
   "outputs": [
    {
     "data": {
      "text/plain": [
       "array([[609, 138, 672, ..., 376, 522, 701],\n",
       "       [504, 169, 372, ..., 809,  87, 324],\n",
       "       [344, 191, 243, ..., 806, 660, 206],\n",
       "       ...,\n",
       "       [330, 542,  73, ..., 333, 498, 497],\n",
       "       [651, 455, 729, ..., 670, 222, 631],\n",
       "       [518, 483, 698, ..., 849, 641, 644]])"
      ]
     },
     "execution_count": 118,
     "metadata": {},
     "output_type": "execute_result"
    }
   ],
   "source": [
    "A_np"
   ]
  },
  {
   "cell_type": "code",
   "execution_count": 124,
   "id": "07d7d106-33b7-4c02-9bf3-8da35cd425cb",
   "metadata": {},
   "outputs": [
    {
     "name": "stdout",
     "output_type": "stream",
     "text": [
      "605 ms ± 1.6 ms per loop (mean ± std. dev. of 7 runs, 1 loop each)\n"
     ]
    }
   ],
   "source": [
    "%%timeit\n",
    "np.matmul(A_np,B_np)"
   ]
  },
  {
   "cell_type": "markdown",
   "id": "ed9367f0-6916-417f-b3cf-200534235e0c",
   "metadata": {},
   "source": [
    "So how much faster is that?\n",
    "Let's say it was 600ms. The Python calculation was about 60 seconds, or 60000 ms. Hence Numpy was 1000 X faster! "
   ]
  },
  {
   "cell_type": "markdown",
   "id": "e4b8bfbe-40b7-4082-b136-7b17fa01c290",
   "metadata": {},
   "source": [
    "# PyTorch\n",
    "First let's try it on the CPU. It should be about the same speed as Numpy as it should call to the same C libraries.\n",
    "Then we will move the data to the GPU and perform the matrix multiply there.\n"
   ]
  },
  {
   "cell_type": "code",
   "execution_count": 122,
   "id": "7f1de9d6-2fee-491c-9b29-ef1a323392c4",
   "metadata": {},
   "outputs": [],
   "source": [
    "import torch"
   ]
  },
  {
   "cell_type": "code",
   "execution_count": 123,
   "id": "56e25052-f534-4f51-a26e-c374b2967c20",
   "metadata": {},
   "outputs": [],
   "source": [
    "A_t = torch.tensor(A)\n",
    "B_t = torch.tensor(B)"
   ]
  },
  {
   "cell_type": "code",
   "execution_count": 134,
   "id": "a49d744a-d028-4385-b486-614f7a837549",
   "metadata": {},
   "outputs": [
    {
     "name": "stdout",
     "output_type": "stream",
     "text": [
      "72.7 ms ± 398 µs per loop (mean ± std. dev. of 7 runs, 10 loops each)\n"
     ]
    }
   ],
   "source": [
    "%%timeit\n",
    "torch.matmul(A_t,B_t)"
   ]
  },
  {
   "cell_type": "markdown",
   "id": "294824c5-f336-438b-b9ef-dbd1539ad77d",
   "metadata": {},
   "source": [
    "Surprisingly this was a 10X improvement over Numpy. As far as I know there is no reason to expect such an improvement in general. Performance for matrix multiply strongly depends on the [BLAS](https://en.wikipedia.org/wiki/Basic_Linear_Algebra_Subprograms) library to which the NumPy and Pytorch implementation relies on."
   ]
  },
  {
   "cell_type": "markdown",
   "id": "d1c84a4f-394d-4551-8a2e-45b499aa3601",
   "metadata": {},
   "source": [
    "# Let's try on the GPU\n",
    "First we check that GPU's are available to us.\n",
    "One way to do this is from the command line using the command `nvidia-smi`."
   ]
  },
  {
   "cell_type": "code",
   "execution_count": 156,
   "id": "08f1389b-74da-49aa-8ea8-6d9d7a17050b",
   "metadata": {},
   "outputs": [
    {
     "name": "stdout",
     "output_type": "stream",
     "text": [
      "Tue Nov  2 13:21:00 2021       \n",
      "+-----------------------------------------------------------------------------+\n",
      "| NVIDIA-SMI 470.57.02    Driver Version: 470.57.02    CUDA Version: 11.4     |\n",
      "|-------------------------------+----------------------+----------------------+\n",
      "| GPU  Name        Persistence-M| Bus-Id        Disp.A | Volatile Uncorr. ECC |\n",
      "| Fan  Temp  Perf  Pwr:Usage/Cap|         Memory-Usage | GPU-Util  Compute M. |\n",
      "|                               |                      |               MIG M. |\n",
      "|===============================+======================+======================|\n",
      "|   0  NVIDIA RTX A6000    Off  | 00000000:1B:00.0 Off |                  Off |\n",
      "| 30%   30C    P8    28W / 300W |   6503MiB / 48685MiB |      0%      Default |\n",
      "|                               |                      |                  N/A |\n",
      "+-------------------------------+----------------------+----------------------+\n",
      "                                                                               \n",
      "+-----------------------------------------------------------------------------+\n",
      "| Processes:                                                                  |\n",
      "|  GPU   GI   CI        PID   Type   Process name                  GPU Memory |\n",
      "|        ID   ID                                                   Usage      |\n",
      "|=============================================================================|\n",
      "|    0   N/A  N/A   2425476      C   ...s/rapids-21.10/bin/python     4777MiB |\n",
      "|    0   N/A  N/A   3738498      C   ...1-10-cuda-11-3/bin/python     1723MiB |\n",
      "+-----------------------------------------------------------------------------+\n"
     ]
    }
   ],
   "source": [
    "!nvidia-smi"
   ]
  },
  {
   "cell_type": "markdown",
   "id": "8443e56b-fd92-4020-9ec4-d489ff7ae84e",
   "metadata": {},
   "source": [
    "We can also use utilities in Pytorch."
   ]
  },
  {
   "cell_type": "code",
   "execution_count": 157,
   "id": "d6782514-ad65-49ea-9968-4669d66b77b4",
   "metadata": {},
   "outputs": [
    {
     "data": {
      "text/plain": [
       "True"
      ]
     },
     "execution_count": 157,
     "metadata": {},
     "output_type": "execute_result"
    }
   ],
   "source": [
    "torch.cuda.is_available()"
   ]
  },
  {
   "cell_type": "markdown",
   "id": "ff5201b6-53c4-40b0-b919-aaed4fc850e2",
   "metadata": {},
   "source": [
    "How many (I requested 1)."
   ]
  },
  {
   "cell_type": "code",
   "execution_count": 130,
   "id": "155424d5-1a18-41b2-9dde-c6813a4884a3",
   "metadata": {},
   "outputs": [
    {
     "data": {
      "text/plain": [
       "1"
      ]
     },
     "execution_count": 130,
     "metadata": {},
     "output_type": "execute_result"
    }
   ],
   "source": [
    "torch.cuda.device_count()"
   ]
  },
  {
   "cell_type": "markdown",
   "id": "cfa4307b-20da-42fc-b798-682778153da2",
   "metadata": {},
   "source": [
    "What GPU?"
   ]
  },
  {
   "cell_type": "code",
   "execution_count": 139,
   "id": "4ae3c9d2-20bb-4690-af17-df5115fbd9a4",
   "metadata": {},
   "outputs": [
    {
     "data": {
      "text/plain": [
       "'NVIDIA RTX A6000'"
      ]
     },
     "execution_count": 139,
     "metadata": {},
     "output_type": "execute_result"
    }
   ],
   "source": [
    "torch.cuda.get_device_name()"
   ]
  },
  {
   "cell_type": "markdown",
   "id": "4830ea41-f51e-4328-b847-226ddd76d8a9",
   "metadata": {},
   "source": [
    "How much GPU memory currently used?"
   ]
  },
  {
   "cell_type": "code",
   "execution_count": 160,
   "id": "a91d78f8-184c-41b1-ae82-c62563f4e76e",
   "metadata": {},
   "outputs": [
    {
     "name": "stdout",
     "output_type": "stream",
     "text": [
      "Memory allocated: 0.0054 GB\n",
      "Memory reserved:    0.0215 GB\n"
     ]
    }
   ],
   "source": [
    "print('Memory allocated:', round(torch.cuda.memory_allocated()/1024**3,4), 'GB')\n",
    "print('Memory reserved:   ', round(torch.cuda.memory_reserved()/1024**3,4), 'GB')"
   ]
  },
  {
   "cell_type": "markdown",
   "id": "5aa574e6-af02-481f-8b73-291dc94b92bf",
   "metadata": {},
   "source": [
    "First we move the matrices from the CPU memory to the GPU memory."
   ]
  },
  {
   "cell_type": "code",
   "execution_count": 165,
   "id": "121ec524-0685-4f25-bcb9-2e9daa047961",
   "metadata": {},
   "outputs": [
    {
     "data": {
      "text/plain": [
       "tensor([[494, 496, 435,  ...,  90, 647, 319],\n",
       "        [499, 102, 194,  ..., 470, 708, 698],\n",
       "        [409, 204, 714,  ..., 427, 646, 234],\n",
       "        ...,\n",
       "        [686, 597, 451,  ..., 411,  93, 839],\n",
       "        [386,  74,  45,  ..., 418, 513, 445],\n",
       "        [292, 766, 539,  ..., 647, 390, 508]], device='cuda:0')"
      ]
     },
     "execution_count": 165,
     "metadata": {},
     "output_type": "execute_result"
    }
   ],
   "source": [
    "A_t.to('cuda')\n",
    "B_t.to('cuda')"
   ]
  },
  {
   "cell_type": "code",
   "execution_count": 159,
   "id": "2429ec3a-5d0d-41a2-970f-9d7de5785de3",
   "metadata": {},
   "outputs": [
    {
     "name": "stdout",
     "output_type": "stream",
     "text": [
      "Cached:    0.0215 GB\n"
     ]
    }
   ],
   "source": [
    "print('Memory reserved:   ', round(torch.cuda.memory_reserved()/1024**3,4), 'GB')"
   ]
  },
  {
   "cell_type": "code",
   "execution_count": 166,
   "id": "e9ac0d9f-f52e-4fa0-97c6-f4c31885289d",
   "metadata": {},
   "outputs": [
    {
     "name": "stdout",
     "output_type": "stream",
     "text": [
      "76.3 ms ± 768 µs per loop (mean ± std. dev. of 7 runs, 10 loops each)\n"
     ]
    }
   ],
   "source": [
    "%%timeit\n",
    "# ensure that context initialization finish before you start measuring time\n",
    "torch.matmul(A_t,B_t)\n"
   ]
  },
  {
   "cell_type": "markdown",
   "id": "e7566632-b562-4b15-9153-236cc86610da",
   "metadata": {},
   "source": [
    "No speed up? We need bigger matrices. We create two numpy arrays below of size `n` by `n`."
   ]
  },
  {
   "cell_type": "code",
   "execution_count": 173,
   "id": "0cdebee3-a19d-43a7-b8e1-fb06089d6413",
   "metadata": {},
   "outputs": [],
   "source": [
    "n = 20000\n",
    "C = np.random.rand(n,n)\n",
    "D = np.random.rand(n,n)\n",
    "C_t = torch.tensor(C).to(\"cuda\")\n",
    "D_t = torch.tensor(D).to(\"cuda\")\n",
    "torch.cuda.synchronize()"
   ]
  },
  {
   "cell_type": "markdown",
   "id": "e8673caf-57fb-4ee6-b034-3030c2a5d0bb",
   "metadata": {},
   "source": [
    "How much bigger are these matrices?"
   ]
  },
  {
   "cell_type": "code",
   "execution_count": 176,
   "id": "41b60bd6-cd19-4716-84dc-442612ba6702",
   "metadata": {},
   "outputs": [
    {
     "name": "stdout",
     "output_type": "stream",
     "text": [
      "Memory reserved:    8.2207 GB\n"
     ]
    }
   ],
   "source": [
    "print('Memory reserved:   ', round(torch.cuda.memory_reserved()/1024**3,4), 'GB')"
   ]
  },
  {
   "cell_type": "markdown",
   "id": "f8831568-53bb-4218-b02f-107fe6334019",
   "metadata": {},
   "source": [
    "What is the speed without GPU?"
   ]
  },
  {
   "cell_type": "code",
   "execution_count": 174,
   "id": "54a6600e-8f39-40e0-8b8d-f07fea418551",
   "metadata": {},
   "outputs": [
    {
     "name": "stdout",
     "output_type": "stream",
     "text": [
      "41.5 s ± 81.2 ms per loop (mean ± std. dev. of 7 runs, 1 loop each)\n"
     ]
    }
   ],
   "source": [
    "%%timeit\n",
    "np.matmul(C,D)"
   ]
  },
  {
   "cell_type": "markdown",
   "id": "7173201d-9dc5-42e8-853f-581957f80902",
   "metadata": {},
   "source": [
    "And on GPU?"
   ]
  },
  {
   "cell_type": "code",
   "execution_count": 177,
   "id": "2e893bae-6f1e-487c-82db-ec5a95f0c9ce",
   "metadata": {},
   "outputs": [
    {
     "name": "stdout",
     "output_type": "stream",
     "text": [
      "28.5 s ± 87.2 ms per loop (mean ± std. dev. of 7 runs, 1 loop each)\n"
     ]
    }
   ],
   "source": [
    "%%timeit\n",
    "torch.matmul(C_t,D_t)\n",
    "torch.cuda.synchronize()"
   ]
  },
  {
   "cell_type": "code",
   "execution_count": null,
   "id": "82646e65-7d1e-4829-9707-e3e5528ac6db",
   "metadata": {},
   "outputs": [],
   "source": []
  }
 ],
 "metadata": {
  "kernelspec": {
   "display_name": "Python 3 (ipykernel)",
   "language": "python",
   "name": "python3"
  },
  "language_info": {
   "codemirror_mode": {
    "name": "ipython",
    "version": 3
   },
   "file_extension": ".py",
   "mimetype": "text/x-python",
   "name": "python",
   "nbconvert_exporter": "python",
   "pygments_lexer": "ipython3",
   "version": "3.9.7"
  }
 },
 "nbformat": 4,
 "nbformat_minor": 5
}
